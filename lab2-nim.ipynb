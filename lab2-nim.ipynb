{
 "cells": [
  {
   "cell_type": "markdown",
   "metadata": {
    "pycharm": {
     "name": "#%% md\n"
    }
   },
   "source": [
    "Copyright **`(c)`** 2022 Giovanni Squillero `<squillero@polito.it>`  \n",
    "[`https://github.com/squillero/computational-intelligence`](https://github.com/squillero/computational-intelligence)  \n",
    "Free for personal or classroom use; see [`LICENSE.md`](https://github.com/squillero/computational-intelligence/blob/master/LICENSE.md) for details.  \n"
   ]
  },
  {
   "cell_type": "markdown",
   "metadata": {
    "pycharm": {
     "name": "#%%\n"
    }
   },
   "source": [
    "# Lab 3: ES\n",
    "\n",
    "## Task\n",
    "\n",
    "Write agents able to play [*Nim*](https://en.wikipedia.org/wiki/Nim), with an arbitrary number of rows and an upper bound $k$ on the number of objects that can be removed in a turn (a.k.a., *subtraction game*).\n",
    "\n",
    "The goal of the game is to **avoid** taking the last object.\n",
    "\n",
    "* Task2.1: An agent using fixed rules based on *nim-sum* (i.e., an *expert system*)\n",
    "* Task2.2: An agent using evolved rules using ES\n",
    "\n",
    "## Instructions\n",
    "\n",
    "* Create the directory `lab2` inside the course repo \n",
    "* Put a `README.md` and your solution (all the files, code and auxiliary data if needed)\n",
    "\n",
    "## Notes\n",
    "\n",
    "* Working in group is not only allowed, but recommended (see: [Ubuntu](https://en.wikipedia.org/wiki/Ubuntu_philosophy) and [Cooperative Learning](https://files.eric.ed.gov/fulltext/EJ1096789.pdf)). Collaborations must be explicitly declared in the `README.md`.\n",
    "* [Yanking](https://www.emacswiki.org/emacs/KillingAndYanking) from the internet is allowed, but sources must be explicitly declared in the `README.md`.\n",
    "\n"
   ]
  },
  {
   "cell_type": "code",
   "execution_count": 1,
   "metadata": {},
   "outputs": [],
   "source": [
    "import logging\n",
    "from pprint import pprint, pformat\n",
    "from collections import namedtuple\n",
    "import random\n",
    "from copy import deepcopy\n"
   ]
  },
  {
   "cell_type": "markdown",
   "metadata": {},
   "source": [
    "## The *Nim* and *Nimply* classes"
   ]
  },
  {
   "cell_type": "code",
   "execution_count": 2,
   "metadata": {},
   "outputs": [],
   "source": [
    "Nimply = namedtuple(\"Nimply\", \"row, num_objects\")\n"
   ]
  },
  {
   "cell_type": "code",
   "execution_count": 3,
   "metadata": {},
   "outputs": [],
   "source": [
    "class Nim:\n",
    "    def __init__(self, num_rows: int, k: int = None) -> None:\n",
    "        self._rows = [i * 2 + 1 for i in range(num_rows)]\n",
    "        self._k = k\n",
    "\n",
    "    def __bool__(self):\n",
    "        return sum(self._rows) > 0\n",
    "\n",
    "    def __str__(self):\n",
    "        return \"<\" + \" \".join(str(_) for _ in self._rows) + \">\"\n",
    "\n",
    "    @property\n",
    "    def rows(self) -> tuple:\n",
    "        return tuple(self._rows)\n",
    "\n",
    "    def nimming(self, ply: Nimply) -> None:\n",
    "        row, num_objects = ply\n",
    "        assert self._rows[row] >= num_objects\n",
    "        assert self._k is None or num_objects <= self._k\n",
    "        self._rows[row] -= num_objects\n"
   ]
  },
  {
   "cell_type": "markdown",
   "metadata": {},
   "source": [
    "## Sample (and silly) startegies "
   ]
  },
  {
   "cell_type": "code",
   "execution_count": 4,
   "metadata": {},
   "outputs": [],
   "source": [
    "def pure_random(state: Nim) -> Nimply:\n",
    "    \"\"\"A completely random move\"\"\"\n",
    "    row = random.choice([r for r, c in enumerate(state.rows) if c > 0])\n",
    "    num_objects = random.randint(1, state.rows[row])\n",
    "    return Nimply(row, num_objects)\n"
   ]
  },
  {
   "cell_type": "code",
   "execution_count": 5,
   "metadata": {},
   "outputs": [],
   "source": [
    "def gabriele(state: Nim) -> Nimply:\n",
    "    \"\"\"Pick always the maximum possible number of the lowest row\"\"\"\n",
    "    possible_moves = [(r, o) for r, c in enumerate(state.rows) for o in range(1, c + 1)]\n",
    "    return Nimply(*max(possible_moves, key=lambda m: (-m[0], m[1])))\n"
   ]
  },
  {
   "cell_type": "code",
   "execution_count": 6,
   "metadata": {},
   "outputs": [],
   "source": [
    "def adaptive(state: Nim) -> Nimply:\n",
    "    \"\"\"A strategy that can adapt its parameters\"\"\"\n",
    "    genome = {\"love_small\": 0.5}\n"
   ]
  },
  {
   "cell_type": "code",
   "execution_count": 7,
   "metadata": {},
   "outputs": [],
   "source": [
    "import numpy as np\n",
    "\n",
    "\n",
    "def nim_sum(state: Nim) -> int:\n",
    "    tmp = np.array([tuple(int(x) for x in f\"{c:032b}\") for c in state.rows])\n",
    "    xor = tmp.sum(axis=0) % 2\n",
    "    return int(\"\".join(str(_) for _ in xor), base=2)\n",
    "\n",
    "\n",
    "def analize(raw: Nim) -> dict:\n",
    "    cooked = dict()\n",
    "    cooked[\"possible_moves\"] = dict()\n",
    "    for ply in (Nimply(r, o) for r, c in enumerate(raw.rows) for o in range(1, c + 1)):\n",
    "        tmp = deepcopy(raw)\n",
    "        tmp.nimming(ply)\n",
    "        cooked[\"possible_moves\"][ply] = nim_sum(tmp)\n",
    "    return cooked\n",
    "\n",
    "\n",
    "def optimal(state: Nim) -> Nimply:\n",
    "    analysis = analize(state)\n",
    "    logging.debug(f\"analysis:\\n{pformat(analysis)}\")\n",
    "    spicy_moves = [ply for ply, ns in analysis[\"possible_moves\"].items() if ns != 0]\n",
    "    if not spicy_moves:\n",
    "        spicy_moves = list(analysis[\"possible_moves\"].keys())\n",
    "    ply = random.choice(spicy_moves)\n",
    "    return ply\n"
   ]
  },
  {
   "cell_type": "code",
   "execution_count": 8,
   "metadata": {},
   "outputs": [],
   "source": [
    "import random\n",
    "\n",
    "\n",
    "def generate_individual():\n",
    "    # Genera una strategia casuale\n",
    "    lambda_value = random.uniform(0.0, 1.0)  # Genera un valore di λ casuale tra 0 e 1\n",
    "\n",
    "    individual = {\"lambda\": lambda_value}\n",
    "\n",
    "    return individual\n",
    "\n",
    "\n",
    "def generate_population(population_size):\n",
    "    # Genera una popolazione di individui\n",
    "    population = [generate_individual() for _ in range(population_size)]\n",
    "    return population\n",
    "\n",
    "def mossa(state: Nim,individual) :\n",
    "    analysis = analize(state)\n",
    "        \n",
    "    spicy_moves = [ply for ply, ns in analysis[\"possible_moves\"].items() if ns != 0]\n",
    "    if not spicy_moves:\n",
    "        spicy_moves = list(analysis[\"possible_moves\"].keys())\n",
    "    max_ply = max(spicy_moves, key=lambda ply: (1 - individual[\"lambda\"]) * analysis[\"possible_moves\"][ply])\n",
    "    return max_ply\n",
    "               \n",
    "\n",
    "def fitness (individual):\n",
    "    strategy = (mossa, pure_random)\n",
    "    num_partite_vinte=0\n",
    "    for _ in range(0,5):\n",
    "        nim = Nim(5)\n",
    "        player = 0\n",
    "        while nim:\n",
    "            if strategy[player] == mossa :\n",
    "                ply=strategy[player](nim,individual)\n",
    "                nim.nimming(ply)\n",
    "            else:\n",
    "                ply = strategy[player](nim)\n",
    "                nim.nimming(ply)\n",
    "            player = 1 - player\n",
    "        if player == 0:\n",
    "            num_partite_vinte+=1\n",
    "        else:\n",
    "            if num_partite_vinte == 0:\n",
    "                num_partite_vinte-=1\n",
    "    return num_partite_vinte\n",
    "\n",
    "def fitness_population(population) :\n",
    "    max_fitness=0\n",
    "    temp_population = []\n",
    "    for individual in population:\n",
    "        num_partite_vinte=fitness(individual)\n",
    "        temp_population.append((individual,num_partite_vinte))\n",
    "        if max_fitness < num_partite_vinte :\n",
    "            max_fitness = num_partite_vinte\n",
    "    final_population = [ind for ind,num_partite_vinte in temp_population if num_partite_vinte == max_fitness]\n",
    "    return final_population\n",
    "\n",
    "\n",
    "def crossover(parent1,parent2):\n",
    "    binary_representation_1 = bin(int(parent1[\"lambda\"] * 1000))[2:]\n",
    "    binary_representation_2 = bin(int(parent2[\"lambda\"]*1000))[2:]\n",
    "    casual_point = random.randint(1,min(len(binary_representation_1),len(binary_representation_2)))\n",
    "    figlio_lambda = binary_representation_1[:casual_point] + binary_representation_2[casual_point:]\n",
    "    figlio_lambda_decimal = int(figlio_lambda,2) / 1000\n",
    "    figlio = {\"lambda\":figlio_lambda_decimal}\n",
    "    return figlio\n",
    "\n",
    "\n",
    "def es(num_generations) :\n",
    "    population = generate_population(100)\n",
    "    for _ in range(num_generations):\n",
    "        final_population = fitness_population(population)\n",
    "        new_population = []\n",
    "        while len(new_population) < len(population):\n",
    "            parent1 = random.choice(final_population)\n",
    "            parent2 = random.choice(final_population)\n",
    "            figlio = crossover(parent1,parent2)\n",
    "            new_population.append(figlio)\n",
    "    population=new_population\n",
    "    return population"
   ]
  },
  {
   "cell_type": "markdown",
   "metadata": {},
   "source": [
    "## Oversimplified match"
   ]
  },
  {
   "cell_type": "code",
   "execution_count": 9,
   "metadata": {},
   "outputs": [
    {
     "name": "stderr",
     "output_type": "stream",
     "text": [
      "INFO:root:init : <1 3 5 7 9>\n",
      "INFO:root:ply: player 0 plays Nimply(row=2, num_objects=2)\n",
      "INFO:root:ply: player 1 plays Nimply(row=0, num_objects=1)\n",
      "INFO:root:ply: player 0 plays Nimply(row=1, num_objects=1)\n",
      "INFO:root:ply: player 1 plays Nimply(row=1, num_objects=2)\n",
      "INFO:root:ply: player 0 plays Nimply(row=2, num_objects=2)\n",
      "INFO:root:ply: player 1 plays Nimply(row=2, num_objects=1)\n",
      "INFO:root:ply: player 0 plays Nimply(row=3, num_objects=1)\n",
      "INFO:root:ply: player 1 plays Nimply(row=3, num_objects=6)\n",
      "INFO:root:ply: player 0 plays Nimply(row=4, num_objects=1)\n",
      "INFO:root:ply: player 1 plays Nimply(row=4, num_objects=8)\n",
      "INFO:root:status: Player 0 won!\n"
     ]
    }
   ],
   "source": [
    "# logging.getLogger().setLevel(logging.INFO)\n",
    "\n",
    "# strategy = (optimal, pure_random)\n",
    "\n",
    "# nim = Nim(5)\n",
    "# logging.info(f\"init : {nim}\")\n",
    "# player = 0\n",
    "# while nim:\n",
    "#     ply = strategy[player](nim)\n",
    "#     logging.info(f\"ply: player {player} plays {ply}\")\n",
    "#     nim.nimming(ply)\n",
    "#     logging.info(f\"status: {nim}\")\n",
    "#     player = 1 - player\n",
    "# logging.info(f\"status: Player {player} won!\")\n",
    "\n",
    "#valutazione evolutionary algorithm\n",
    "evolutionary_population = es(5)\n",
    "logging.getLogger().setLevel(logging.INFO)\n",
    "\n",
    "strategy = (mossa, gabriele)\n",
    "individual=random.choice(evolutionary_population)\n",
    "nim = Nim(5)\n",
    "logging.info(f\"init : {nim}\")\n",
    "player = 0\n",
    "while nim:\n",
    "    if strategy[player] == mossa :\n",
    "        ply=strategy[player](nim,individual)\n",
    "        nim.nimming(ply)\n",
    "    else:\n",
    "        ply = strategy[player](nim)\n",
    "        nim.nimming(ply)\n",
    "    logging.info(f\"ply: player {player} plays {ply}\")\n",
    "    player = 1 - player\n",
    "logging.info(f\"status: Player {player} won!\")\n"
   ]
  },
  {
   "cell_type": "code",
   "execution_count": null,
   "metadata": {},
   "outputs": [],
   "source": []
  },
  {
   "cell_type": "code",
   "execution_count": null,
   "metadata": {},
   "outputs": [],
   "source": []
  },
  {
   "cell_type": "code",
   "execution_count": null,
   "metadata": {},
   "outputs": [],
   "source": []
  }
 ],
 "metadata": {
  "kernelspec": {
   "display_name": "Python 3.10.7 ('ci22-dPIXJ0_o-py3.10')",
   "language": "python",
   "name": "python3"
  },
  "language_info": {
   "codemirror_mode": {
    "name": "ipython",
    "version": 3
   },
   "file_extension": ".py",
   "mimetype": "text/x-python",
   "name": "python",
   "nbconvert_exporter": "python",
   "pygments_lexer": "ipython3",
   "version": "3.11.3"
  },
  "vscode": {
   "interpreter": {
    "hash": "10197e8e2f2aa67e2c349105091c77f4cd384fce4877865f002d9ec653f96bc0"
   }
  }
 },
 "nbformat": 4,
 "nbformat_minor": 2
}
