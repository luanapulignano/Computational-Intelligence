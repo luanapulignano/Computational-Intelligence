{
 "cells": [
  {
   "cell_type": "markdown",
   "metadata": {
    "pycharm": {
     "name": "#%% md\n"
    }
   },
   "source": [
    "Copyright **`(c)`** 2022 Giovanni Squillero `<squillero@polito.it>`  \n",
    "[`https://github.com/squillero/computational-intelligence`](https://github.com/squillero/computational-intelligence)  \n",
    "Free for personal or classroom use; see [`LICENSE.md`](https://github.com/squillero/computational-intelligence/blob/master/LICENSE.md) for details.  \n"
   ]
  },
  {
   "cell_type": "markdown",
   "metadata": {
    "pycharm": {
     "name": "#%%\n"
    }
   },
   "source": [
    "# Lab 3: ES\n",
    "\n",
    "## Task\n",
    "\n",
    "Write agents able to play [*Nim*](https://en.wikipedia.org/wiki/Nim), with an arbitrary number of rows and an upper bound $k$ on the number of objects that can be removed in a turn (a.k.a., *subtraction game*).\n",
    "\n",
    "The goal of the game is to **avoid** taking the last object.\n",
    "\n",
    "* Task2.1: An agent using fixed rules based on *nim-sum* (i.e., an *expert system*)\n",
    "* Task2.2: An agent using evolved rules using ES\n",
    "\n",
    "## Instructions\n",
    "\n",
    "* Create the directory `lab2` inside your personal course repository for the course \n",
    "* Put a `README.md` and your solution (all the files, code and auxiliary data if needed)\n",
    "\n",
    "## Notes\n",
    "\n",
    "* Working in group is not only allowed, but recommended (see: [Ubuntu](https://en.wikipedia.org/wiki/Ubuntu_philosophy) and [Cooperative Learning](https://files.eric.ed.gov/fulltext/EJ1096789.pdf)). Collaborations must be explicitly declared in the `README.md`.\n",
    "* [Yanking](https://www.emacswiki.org/emacs/KillingAndYanking) from the internet is allowed, but sources must be explicitly declared in the `README.md`.\n",
    "\n"
   ]
  },
  {
   "cell_type": "code",
   "execution_count": 64,
   "metadata": {},
   "outputs": [],
   "source": [
    "import logging\n",
    "from pprint import pprint, pformat\n",
    "from collections import namedtuple\n",
    "import random\n",
    "from copy import deepcopy\n",
    "from dataclasses import dataclass\n",
    "import copy\n",
    "\n"
   ]
  },
  {
   "cell_type": "markdown",
   "metadata": {},
   "source": [
    "## The *Nim* and *Nimply* classes"
   ]
  },
  {
   "cell_type": "code",
   "execution_count": 65,
   "metadata": {},
   "outputs": [],
   "source": [
    "Nimply = namedtuple(\"Nimply\", \"row, num_objects\")\n",
    "NUM_ROWS = 5\n"
   ]
  },
  {
   "cell_type": "code",
   "execution_count": 66,
   "metadata": {},
   "outputs": [],
   "source": [
    "class Nim:\n",
    "    def __init__(self, num_rows: int, k: int = None) -> None:\n",
    "        self._rows = [i * 2 + 1 for i in range(num_rows)]\n",
    "        self._k = k\n",
    "\n",
    "    def __bool__(self):\n",
    "        return sum(self._rows) > 0\n",
    "\n",
    "    def __str__(self):\n",
    "        return \"<\" + \" \".join(str(_) for _ in self._rows) + \">\"\n",
    "\n",
    "    @property\n",
    "    def rows(self) -> tuple:\n",
    "        return tuple(self._rows)\n",
    "\n",
    "    def nimming(self, ply: Nimply) -> None:\n",
    "        row, num_objects = ply\n",
    "        assert self._rows[row] >= num_objects    \n",
    "        assert self._k is None or num_objects <= self._k\n",
    "        self._rows[row] -= num_objects\n"
   ]
  },
  {
   "cell_type": "markdown",
   "metadata": {},
   "source": [
    "## Sample (and silly) startegies "
   ]
  },
  {
   "cell_type": "code",
   "execution_count": 67,
   "metadata": {},
   "outputs": [],
   "source": [
    "def pure_random(state: Nim) -> Nimply:\n",
    "    \"\"\"A completely random move\"\"\"\n",
    "    row = random.choice([r for r, c in enumerate(state.rows) if c > 0])\n",
    "    num_objects = random.randint(1, state.rows[row])\n",
    "    return Nimply(row, num_objects)\n"
   ]
  },
  {
   "cell_type": "code",
   "execution_count": 68,
   "metadata": {},
   "outputs": [],
   "source": [
    "def gabriele(state: Nim) -> Nimply:\n",
    "    \"\"\"Pick always the maximum possible number of the lowest row\"\"\"\n",
    "    possible_moves = [(r, o) for r, c in enumerate(state.rows) for o in range(1, c + 1)]\n",
    "    return Nimply(*max(possible_moves, key=lambda m: (-m[0], m[1])))\n"
   ]
  },
  {
   "cell_type": "code",
   "execution_count": 69,
   "metadata": {},
   "outputs": [],
   "source": [
    "POPULATION_SIZE = 50\n",
    "NUM_GENERATIONS = 10"
   ]
  },
  {
   "cell_type": "code",
   "execution_count": 70,
   "metadata": {},
   "outputs": [],
   "source": [
    "@dataclass\n",
    "class Individual:\n",
    "    genome: tuple\n",
    "    fitness: int\n",
    "#Adaptive (1+labmda) - ES\n",
    "\n",
    "\n",
    "population = [\n",
    "    Individual(\n",
    "        genome=(0,0), #riga,elementi da togliere è gia una mossa\n",
    "        fitness=None,\n",
    "    )\n",
    "    for _ in range(POPULATION_SIZE)\n",
    "] \n",
    "\n",
    "def generate_child(parent,state:Nim,σ):\n",
    "    # Applica una mutazione al genoma del genitore\n",
    "    child_genome = (\n",
    "        int(parent.genome[0] + np.random.normal(loc=0, scale=σ)),  # Modifica la riga con una mutazione\n",
    "        int(parent.genome[1] + np.random.normal(loc=0, scale=σ))   # Modifica il numero di oggetti con una mutazione\n",
    "    )\n",
    "\n",
    "    # Assicurati che i valori siano all'interno degli intervalli desiderati\n",
    "    child_genome = (\n",
    "        max(0, min(child_genome[0], NUM_ROWS)),   # Assicura che la riga sia compresa tra 0 e max_row\n",
    "        max(0, min(child_genome[1], state.rows[max(0, min(child_genome[0], NUM_ROWS))]))  # Assicura che il numero di oggetti sia compreso tra 0 e max_objects\n",
    "    )\n",
    "    return Individual(genome=child_genome, fitness=None)\n",
    "\n",
    "def fitness(individual: Individual, state: Nim):\n",
    "    temp_state = copy.deepcopy(state)    \n",
    "    temp_state.nimming(Nimply(individual.genome[0],individual.genome[1]))\n",
    "    num_rows_not_zero=0\n",
    "    for row in temp_state.rows:\n",
    "        if row!=0:\n",
    "            num_rows_not_zero+=1\n",
    "    odd_rows_with_one_stick = sum(1 for row in temp_state.rows if num_rows_not_zero % 2 != 0 and row==1)\n",
    "    fitness_score = -odd_rows_with_one_stick\n",
    "    return fitness_score\n",
    "\n",
    "\n",
    "def es(state: Nim):\n",
    "# Iterazione attraverso le generazioni\n",
    "    λ = 50 #number of children for each iteration\n",
    "    σ = 0.001 #dev std\n",
    "    stats = [0,0]\n",
    "    best_prev_fitness=-9999\n",
    "    for step in range(NUM_GENERATIONS):\n",
    "        \n",
    "        for individual in population:\n",
    "            individual.fitness = fitness(individual,state)\n",
    "\n",
    "        # Ordina la popolazione in base alla fitness (assumendo che un punteggio più alto sia migliore)\n",
    "        population.sort(key=lambda x: x.fitness, reverse=True)\n",
    "\n",
    "        # Seleziona il miglior individuo come genitore\n",
    "        parent = population[0]\n",
    "        # Genera λ figli\n",
    "        children = [generate_child(parent,state,σ) for _ in range(λ)]\n",
    "        \n",
    "        # Valuta la fitness dei figli\n",
    "        stats[0] += λ\n",
    "        for child in children:\n",
    "            child.fitness = fitness(child,state)\n",
    "            stats[1] += int(-child.fitness > -best_prev_fitness) #fitness è negativa\n",
    "       \n",
    "        #stats[0] contiene il numero totale di valutazioni di fitness\n",
    "        #stats[1] cotniene il numero di valutazioni che superano la soluzione corrente\n",
    "        if stats[1] != 0 and stats[0] / stats[1] < 1 / 5:\n",
    "            σ /= 1.1\n",
    "        elif stats[1] != 0 and stats[0] / stats[1] > 1 / 5:\n",
    "            σ *= 1.1\n",
    "\n",
    "        \n",
    "        population.sort(key=lambda i:i.fitness,reverse=True) \n",
    "        population[:-λ]=children\n",
    "\n",
    "        # Output per vedere la progressione\n",
    "        best_prev_fitness=population[0].fitness\n",
    "    # Alla fine dell'evoluzione, il miglior individuo sarà in population[0]\n",
    "    best_individual = population[0]\n",
    "    return Nimply(best_individual.genome[0],best_individual.genome[1])\n",
    "\n",
    "\n"
   ]
  },
  {
   "cell_type": "code",
   "execution_count": 71,
   "metadata": {},
   "outputs": [],
   "source": [
    "import numpy as np\n",
    "\n",
    "\n",
    "def nim_sum(state: Nim) -> int:\n",
    "    tmp = np.array([tuple(int(x) for x in f\"{c:032b}\") for c in state.rows])\n",
    "    xor = tmp.sum(axis=0) % 2\n",
    "    return int(\"\".join(str(_) for _ in xor), base=2)\n",
    "\n",
    "\n",
    "def analize(raw: Nim) -> dict:\n",
    "    cooked = dict()\n",
    "    cooked[\"possible_moves\"] = dict()\n",
    "    for ply in (Nimply(r, o) for r, c in enumerate(raw.rows) for o in range(1, c + 1)):\n",
    "        tmp = deepcopy(raw)\n",
    "        tmp.nimming(ply)\n",
    "        cooked[\"possible_moves\"][ply] = nim_sum(tmp)\n",
    "    return cooked\n",
    "\n",
    "\n",
    "def optimal(state: Nim) -> Nimply:\n",
    "    analysis = analize(state)\n",
    "    logging.debug(f\"analysis:\\n{pformat(analysis)}\")\n",
    "    spicy_moves = [ply for ply, ns in analysis[\"possible_moves\"].items() if ns != 0]\n",
    "    if not spicy_moves:\n",
    "        spicy_moves = list(analysis[\"possible_moves\"].keys())\n",
    "    ply = random.choice(spicy_moves)\n",
    "    return ply\n"
   ]
  },
  {
   "cell_type": "markdown",
   "metadata": {},
   "source": [
    "## Oversimplified match"
   ]
  },
  {
   "cell_type": "code",
   "execution_count": 72,
   "metadata": {},
   "outputs": [
    {
     "name": "stderr",
     "output_type": "stream",
     "text": [
      "INFO:root:init : <1 3 5 7 9>\n",
      "INFO:root:ply: player 0 plays Nimply(row=1, num_objects=1)\n",
      "INFO:root:status: <1 2 5 7 9>\n",
      "INFO:root:ply: player 1 plays Nimply(row=0, num_objects=0)\n",
      "INFO:root:status: <1 2 5 7 9>\n",
      "INFO:root:ply: player 0 plays Nimply(row=3, num_objects=1)\n",
      "INFO:root:status: <1 2 5 6 9>\n",
      "INFO:root:ply: player 1 plays Nimply(row=0, num_objects=0)\n",
      "INFO:root:status: <1 2 5 6 9>\n",
      "INFO:root:ply: player 0 plays Nimply(row=0, num_objects=1)\n",
      "INFO:root:status: <0 2 5 6 9>\n",
      "INFO:root:ply: player 1 plays Nimply(row=0, num_objects=0)\n",
      "INFO:root:status: <0 2 5 6 9>\n",
      "INFO:root:ply: player 0 plays Nimply(row=4, num_objects=7)\n",
      "INFO:root:status: <0 2 5 6 2>\n",
      "INFO:root:ply: player 1 plays Nimply(row=0, num_objects=0)\n",
      "INFO:root:status: <0 2 5 6 2>\n",
      "INFO:root:ply: player 0 plays Nimply(row=2, num_objects=4)\n",
      "INFO:root:status: <0 2 1 6 2>\n",
      "INFO:root:ply: player 1 plays Nimply(row=0, num_objects=0)\n",
      "INFO:root:status: <0 2 1 6 2>\n",
      "INFO:root:ply: player 0 plays Nimply(row=1, num_objects=2)\n",
      "INFO:root:status: <0 0 1 6 2>\n",
      "INFO:root:ply: player 1 plays Nimply(row=0, num_objects=0)\n",
      "INFO:root:status: <0 0 1 6 2>\n",
      "INFO:root:ply: player 0 plays Nimply(row=4, num_objects=1)\n",
      "INFO:root:status: <0 0 1 6 1>\n",
      "INFO:root:ply: player 1 plays Nimply(row=0, num_objects=0)\n",
      "INFO:root:status: <0 0 1 6 1>\n",
      "INFO:root:ply: player 0 plays Nimply(row=2, num_objects=1)\n",
      "INFO:root:status: <0 0 0 6 1>\n",
      "INFO:root:ply: player 1 plays Nimply(row=0, num_objects=0)\n",
      "INFO:root:status: <0 0 0 6 1>\n",
      "INFO:root:ply: player 0 plays Nimply(row=3, num_objects=2)\n",
      "INFO:root:status: <0 0 0 4 1>\n",
      "INFO:root:ply: player 1 plays Nimply(row=0, num_objects=0)\n",
      "INFO:root:status: <0 0 0 4 1>\n",
      "INFO:root:ply: player 0 plays Nimply(row=3, num_objects=4)\n",
      "INFO:root:status: <0 0 0 0 1>\n",
      "INFO:root:ply: player 1 plays Nimply(row=0, num_objects=0)\n",
      "INFO:root:status: <0 0 0 0 1>\n",
      "INFO:root:ply: player 0 plays Nimply(row=4, num_objects=1)\n",
      "INFO:root:status: <0 0 0 0 0>\n",
      "INFO:root:status: Player 1 won!\n"
     ]
    }
   ],
   "source": [
    "logging.getLogger().setLevel(logging.INFO)\n",
    "\n",
    "strategy = (pure_random, es)\n",
    "\n",
    "nim = Nim(5)\n",
    "logging.info(f\"init : {nim}\")\n",
    "player = 0\n",
    "while nim:\n",
    "    ply = strategy[player](nim)\n",
    "    logging.info(f\"ply: player {player} plays {ply}\")\n",
    "    nim.nimming(ply)\n",
    "    logging.info(f\"status: {nim}\")\n",
    "    player = 1 - player\n",
    "logging.info(f\"status: Player {player} won!\")\n"
   ]
  },
  {
   "cell_type": "code",
   "execution_count": null,
   "metadata": {},
   "outputs": [],
   "source": []
  },
  {
   "cell_type": "code",
   "execution_count": null,
   "metadata": {},
   "outputs": [],
   "source": []
  },
  {
   "cell_type": "code",
   "execution_count": null,
   "metadata": {},
   "outputs": [],
   "source": []
  }
 ],
 "metadata": {
  "kernelspec": {
   "display_name": "Python 3.10.7 ('ci22-dPIXJ0_o-py3.10')",
   "language": "python",
   "name": "python3"
  },
  "language_info": {
   "codemirror_mode": {
    "name": "ipython",
    "version": 3
   },
   "file_extension": ".py",
   "mimetype": "text/x-python",
   "name": "python",
   "nbconvert_exporter": "python",
   "pygments_lexer": "ipython3",
   "version": "3.11.3"
  },
  "vscode": {
   "interpreter": {
    "hash": "10197e8e2f2aa67e2c349105091c77f4cd384fce4877865f002d9ec653f96bc0"
   }
  }
 },
 "nbformat": 4,
 "nbformat_minor": 2
}
