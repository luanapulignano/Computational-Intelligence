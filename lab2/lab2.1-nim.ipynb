{
 "cells": [
  {
   "cell_type": "markdown",
   "metadata": {
    "pycharm": {
     "name": "#%% md\n"
    }
   },
   "source": [
    "Copyright **`(c)`** 2022 Giovanni Squillero `<squillero@polito.it>`  \n",
    "[`https://github.com/squillero/computational-intelligence`](https://github.com/squillero/computational-intelligence)  \n",
    "Free for personal or classroom use; see [`LICENSE.md`](https://github.com/squillero/computational-intelligence/blob/master/LICENSE.md) for details.  \n"
   ]
  },
  {
   "cell_type": "markdown",
   "metadata": {
    "pycharm": {
     "name": "#%%\n"
    }
   },
   "source": [
    "# Lab 3: ES\n",
    "\n",
    "## Task\n",
    "\n",
    "Write agents able to play [*Nim*](https://en.wikipedia.org/wiki/Nim), with an arbitrary number of rows and an upper bound $k$ on the number of objects that can be removed in a turn (a.k.a., *subtraction game*).\n",
    "\n",
    "The goal of the game is to **avoid** taking the last object.\n",
    "\n",
    "* Task2.1: An agent using fixed rules based on *nim-sum* (i.e., an *expert system*)\n",
    "* Task2.2: An agent using evolved rules using ES\n",
    "\n",
    "## Instructions\n",
    "\n",
    "* Create the directory `lab2` inside your personal course repository for the course \n",
    "* Put a `README.md` and your solution (all the files, code and auxiliary data if needed)\n",
    "\n",
    "## Notes\n",
    "\n",
    "* Working in group is not only allowed, but recommended (see: [Ubuntu](https://en.wikipedia.org/wiki/Ubuntu_philosophy) and [Cooperative Learning](https://files.eric.ed.gov/fulltext/EJ1096789.pdf)). Collaborations must be explicitly declared in the `README.md`.\n",
    "* [Yanking](https://www.emacswiki.org/emacs/KillingAndYanking) from the internet is allowed, but sources must be explicitly declared in the `README.md`.\n",
    "\n"
   ]
  },
  {
   "cell_type": "code",
   "execution_count": 605,
   "metadata": {},
   "outputs": [],
   "source": [
    "import logging\n",
    "from pprint import pprint, pformat\n",
    "from collections import namedtuple\n",
    "from copy import deepcopy\n",
    "from dataclasses import dataclass\n",
    "import copy\n",
    "from random import randint\n"
   ]
  },
  {
   "cell_type": "markdown",
   "metadata": {},
   "source": [
    "## The *Nim* and *Nimply* classes"
   ]
  },
  {
   "cell_type": "code",
   "execution_count": 606,
   "metadata": {},
   "outputs": [],
   "source": [
    "Nimply = namedtuple(\"Nimply\", \"row, num_objects\")\n",
    "NUM_ROWS = 5\n"
   ]
  },
  {
   "cell_type": "code",
   "execution_count": 607,
   "metadata": {},
   "outputs": [],
   "source": [
    "class Nim:\n",
    "    def __init__(self, num_rows: int, k: int = None) -> None:\n",
    "        self._rows = [i * 2 + 1 for i in range(num_rows)]\n",
    "        self._k = k\n",
    "\n",
    "    def __bool__(self):\n",
    "        return sum(self._rows) > 0\n",
    "\n",
    "    def __str__(self):\n",
    "        return \"<\" + \" \".join(str(_) for _ in self._rows) + \">\"\n",
    "\n",
    "    @property\n",
    "    def rows(self) -> tuple:\n",
    "        return tuple(self._rows)\n",
    "\n",
    "    def nimming(self, ply: Nimply) -> None:\n",
    "        row, num_objects = ply\n",
    "        assert self._rows[row] >= num_objects    \n",
    "        assert self._k is None or num_objects <= self._k\n",
    "        self._rows[row] -= num_objects\n"
   ]
  },
  {
   "cell_type": "markdown",
   "metadata": {},
   "source": [
    "## Sample (and silly) startegies "
   ]
  },
  {
   "cell_type": "code",
   "execution_count": 608,
   "metadata": {},
   "outputs": [],
   "source": [
    "def pure_random(state: Nim) -> Nimply:\n",
    "    \"\"\"A completely random move\"\"\"\n",
    "    row = random.choice([r for r, c in enumerate(state.rows) if c > 0])\n",
    "    num_objects = random.randint(1, state.rows[row])\n",
    "    return Nimply(row, num_objects)\n"
   ]
  },
  {
   "cell_type": "code",
   "execution_count": 609,
   "metadata": {},
   "outputs": [],
   "source": [
    "def gabriele(state: Nim) -> Nimply:\n",
    "    \"\"\"Pick always the maximum possible number of the lowest row\"\"\"\n",
    "    possible_moves = [(r, o) for r, c in enumerate(state.rows) for o in range(1, c + 1)]\n",
    "    return Nimply(*max(possible_moves, key=lambda m: (-m[0], m[1])))\n"
   ]
  },
  {
   "cell_type": "code",
   "execution_count": 610,
   "metadata": {},
   "outputs": [],
   "source": [
    "POPULATION_SIZE = 50\n",
    "NUM_GENERATIONS = 10"
   ]
  },
  {
   "cell_type": "code",
   "execution_count": 611,
   "metadata": {},
   "outputs": [],
   "source": [
    "@dataclass\n",
    "class Individual:\n",
    "    genome: float\n",
    "    fitness: int\n",
    "#Adaptive (1+labmda) - ES\n",
    "\n",
    "population = [\n",
    "    Individual(\n",
    "        genome=0.5,\n",
    "        fitness=None,\n",
    "    )\n",
    "    for _ in range(POPULATION_SIZE)\n",
    "]\n",
    "\n",
    "def generate_valid_move(state: Nim, ind: Individual) -> tuple:\n",
    "    #The row is cho0sen based on genome value\n",
    "    row = int(ind.genome * (NUM_ROWS - 1))\n",
    "\n",
    "    #We assure that the move is valid by selecting the next row valid\n",
    "    while state.rows[row] == 0:\n",
    "        row = (row+1)%NUM_ROWS\n",
    "\n",
    "    #We use the genome to determine the number of objects to take\n",
    "    num_objects = int((ind.genome * (NUM_ROWS - 1)) * state.rows[row]) + 1\n",
    "    num_objects = max(1, min(num_objects, state.rows[row]))\n",
    "\n",
    "    return row, num_objects\n",
    "\n",
    "\n",
    "def generate_child(parent, state: Nim, σ):\n",
    "    \n",
    "    child_genome = (\n",
    "        parent.genome + np.random.normal(loc=0, scale=σ)\n",
    "    )\n",
    "\n",
    "    return Individual(genome=child_genome, fitness=None)\n",
    "\n",
    "\n",
    "def fitness(individual: Individual, state: Nim):\n",
    "    temp_state = copy.deepcopy(state)\n",
    "    (row,num_objects) = generate_valid_move(state,individual)\n",
    "    temp_state.nimming(Nimply(row, num_objects))\n",
    "\n",
    "    num_rows_not_zero = sum(1 for row in temp_state.rows if row != 0)\n",
    "    odd_rows_with_one_stick = sum(1 for row in temp_state.rows if num_rows_not_zero % 2 != 0 and row == 1)\n",
    "    penalty_for_single_stick_rows = sum(1 for row in temp_state.rows if row == 1)\n",
    "    incentive_for_remaining_sticks = sum(temp_state.rows)\n",
    "    fitness_score = -odd_rows_with_one_stick + penalty_for_single_stick_rows - incentive_for_remaining_sticks\n",
    "\n",
    "    return fitness_score\n",
    "\n",
    "\n",
    "\n",
    "def es(state: Nim):\n",
    "\n",
    "    λ = 50 \n",
    "    σ = 0.001 #dev std\n",
    "    stats = [0,0]\n",
    "    best_prev_fitness=-9999\n",
    "    for step in range(NUM_GENERATIONS):\n",
    "        \n",
    "        for individual in population:\n",
    "            individual.fitness = fitness(individual,state)\n",
    "\n",
    "        \n",
    "        population.sort(key=lambda x: x.fitness, reverse=True)\n",
    "\n",
    "        # Select best individual as parent\n",
    "        parent = population[0]\n",
    "        # Genera λ figli\n",
    "        children = [generate_child(parent,state,σ) for _ in range(λ)]\n",
    "        # Evaluating children fitness\n",
    "        stats[0] += λ\n",
    "        for child in children:\n",
    "            child.fitness = fitness(child,state)\n",
    "            stats[1] += int(-child.fitness > -best_prev_fitness) #because the fitness is negative value\n",
    "       \n",
    "        #stats[0] total number of fitness evaluations\n",
    "        #stats[1] number of evaluations that are greater than the current one\n",
    "        if stats[1] != 0 and stats[0] / stats[1] < 1 / 5:\n",
    "            σ /= 1.1\n",
    "        elif stats[1] != 0 and stats[0] / stats[1] > 1 / 5:\n",
    "            σ *= 1.1\n",
    "\n",
    "        \n",
    "        population.sort(key=lambda i:i.fitness,reverse=True) \n",
    "        population[:-λ]=children\n",
    "\n",
    "        \n",
    "        best_prev_fitness=population[0].fitness\n",
    "   \n",
    "    best_individual = population[0]\n",
    "    (row,num_objects) = generate_valid_move(state,best_individual)\n",
    "    return Nimply(row,num_objects)\n",
    "\n",
    "\n"
   ]
  },
  {
   "cell_type": "code",
   "execution_count": 612,
   "metadata": {},
   "outputs": [],
   "source": [
    "import numpy as np\n",
    "\n",
    "\n",
    "def nim_sum(state: Nim) -> int:\n",
    "    tmp = np.array([tuple(int(x) for x in f\"{c:032b}\") for c in state.rows])\n",
    "    xor = tmp.sum(axis=0) % 2\n",
    "    return int(\"\".join(str(_) for _ in xor), base=2)\n",
    "\n",
    "\n",
    "def analize(raw: Nim) -> dict:\n",
    "    cooked = dict()\n",
    "    cooked[\"possible_moves\"] = dict()\n",
    "    for ply in (Nimply(r, o) for r, c in enumerate(raw.rows) for o in range(1, c + 1)):\n",
    "        tmp = deepcopy(raw)\n",
    "        tmp.nimming(ply)\n",
    "        cooked[\"possible_moves\"][ply] = nim_sum(tmp)\n",
    "    return cooked\n",
    "\n",
    "\n",
    "def optimal(state: Nim) -> Nimply:\n",
    "    analysis = analize(state)\n",
    "    logging.debug(f\"analysis:\\n{pformat(analysis)}\")\n",
    "    spicy_moves = [ply for ply, ns in analysis[\"possible_moves\"].items() if ns != 0]\n",
    "    if not spicy_moves:\n",
    "        spicy_moves = list(analysis[\"possible_moves\"].keys())\n",
    "    ply = random.choice(spicy_moves)\n",
    "    return ply\n"
   ]
  },
  {
   "cell_type": "markdown",
   "metadata": {},
   "source": [
    "## Oversimplified match"
   ]
  },
  {
   "cell_type": "code",
   "execution_count": 613,
   "metadata": {},
   "outputs": [
    {
     "name": "stderr",
     "output_type": "stream",
     "text": [
      "INFO:root:init : <1 3 5 7 9>\n",
      "INFO:root:ply: player 0 plays Nimply(row=0, num_objects=1)\n",
      "INFO:root:status: <0 3 5 7 9>\n",
      "INFO:root:ply: player 1 plays Nimply(row=2, num_objects=5)\n",
      "INFO:root:status: <0 3 0 7 9>\n",
      "INFO:root:ply: player 0 plays Nimply(row=1, num_objects=3)\n",
      "INFO:root:status: <0 0 0 7 9>\n",
      "INFO:root:ply: player 1 plays Nimply(row=3, num_objects=7)\n",
      "INFO:root:status: <0 0 0 0 9>\n",
      "INFO:root:ply: player 0 plays Nimply(row=4, num_objects=9)\n",
      "INFO:root:status: <0 0 0 0 0>\n",
      "INFO:root:status: Player 1 won!\n"
     ]
    }
   ],
   "source": [
    "logging.getLogger().setLevel(logging.INFO)\n",
    "\n",
    "strategy = (gabriele, es)\n",
    "\n",
    "nim = Nim(5)\n",
    "\n",
    "\n",
    "logging.info(f\"init : {nim}\")\n",
    "player = 0\n",
    "while nim:\n",
    "    ply = strategy[player](nim)\n",
    "    logging.info(f\"ply: player {player} plays {ply}\")\n",
    "    nim.nimming(ply)\n",
    "    logging.info(f\"status: {nim}\")\n",
    "    player = 1 - player\n",
    "logging.info(f\"status: Player {player} won!\")\n"
   ]
  },
  {
   "cell_type": "code",
   "execution_count": null,
   "metadata": {},
   "outputs": [],
   "source": []
  },
  {
   "cell_type": "code",
   "execution_count": null,
   "metadata": {},
   "outputs": [],
   "source": []
  },
  {
   "cell_type": "code",
   "execution_count": null,
   "metadata": {},
   "outputs": [],
   "source": []
  }
 ],
 "metadata": {
  "kernelspec": {
   "display_name": "Python 3.10.7 ('ci22-dPIXJ0_o-py3.10')",
   "language": "python",
   "name": "python3"
  },
  "language_info": {
   "codemirror_mode": {
    "name": "ipython",
    "version": 3
   },
   "file_extension": ".py",
   "mimetype": "text/x-python",
   "name": "python",
   "nbconvert_exporter": "python",
   "pygments_lexer": "ipython3",
   "version": "3.10.11"
  },
  "vscode": {
   "interpreter": {
    "hash": "10197e8e2f2aa67e2c349105091c77f4cd384fce4877865f002d9ec653f96bc0"
   }
  }
 },
 "nbformat": 4,
 "nbformat_minor": 2
}
