{
 "cells": [
  {
   "cell_type": "markdown",
   "id": "185f9931-b384-4fdc-a5b2-eea785428bb8",
   "metadata": {},
   "source": [
    "Copyright **`(c)`** 2023 Giovanni Squillero `<giovanni.squillero@polito.it>`  \n",
    "[`https://github.com/squillero/computational-intelligence`](https://github.com/squillero/computational-intelligence)  \n",
    "Free for personal or classroom use; see [`LICENSE.md`](https://github.com/squillero/computational-intelligence/blob/master/LICENSE.md) for details.  "
   ]
  },
  {
   "cell_type": "code",
   "execution_count": 131,
   "id": "3ffe7245-e849-41d0-9698-5f0e0b83fee9",
   "metadata": {},
   "outputs": [],
   "source": [
    "from itertools import product\n",
    "from random import random, randint, shuffle, seed, choice\n",
    "import numpy as np\n",
    "from functools import reduce\n",
    "from copy import copy\n",
    "from scipy import sparse\n",
    "import math"
   ]
  },
  {
   "cell_type": "code",
   "execution_count": 132,
   "id": "6f03bd67-78a0-4d72-95b7-77a918727b91",
   "metadata": {},
   "outputs": [],
   "source": [
    "def make_set_covering_problem(num_points, num_sets, density):\n",
    "    \"\"\"Returns a sparse array where rows are sets and columns are the covered items\"\"\"\n",
    "    seed(num_points*2654435761+num_sets+density)\n",
    "    sets = sparse.lil_array((num_sets, num_points), dtype=bool)\n",
    "    for s, p in product(range(num_sets), range(num_points)):\n",
    "        if random() < density:\n",
    "            sets[s, p] = True\n",
    "    for p in range(num_points):\n",
    "        sets[randint(0, num_sets-1), p] = True\n",
    "    return sets"
   ]
  },
  {
   "cell_type": "markdown",
   "id": "82b0be37-21d9-492d-9a1d-cf0cdf0ddd76",
   "metadata": {},
   "source": [
    "# Halloween Challenge\n",
    "\n",
    "Find the best solution with the fewest calls to the fitness functions for:\n",
    "\n",
    "* `num_points = [100, 1_000, 5_000]`\n",
    "* `num_sets = num_points`\n",
    "* `density = [.3, .7]` "
   ]
  },
  {
   "cell_type": "code",
   "execution_count": 133,
   "id": "221ffdba-5d3d-48cc-bd08-45ccc9366ea6",
   "metadata": {},
   "outputs": [],
   "source": [
    "PROBLEM_SIZE=100\n",
    "NUM_SETS=100\n",
    "x = make_set_covering_problem(PROBLEM_SIZE, NUM_SETS, .3)"
   ]
  },
  {
   "cell_type": "code",
   "execution_count": 160,
   "id": "6492337b-8429-472d-9c3e-c79c5b46da54",
   "metadata": {},
   "outputs": [
    {
     "name": "stdout",
     "output_type": "stream",
     "text": [
      "200\n",
      "6\n",
      "[False, False, False, False, False, False, False, False, False, False, False, False, False, False, False, False, False, False, True, False, False, True, False, False, False, False, False, False, False, False, False, False, False, False, False, False, False, False, False, False, False, False, False, False, False, False, True, False, False, False, False, False, False, False, False, False, False, False, False, False, False, False, False, False, False, False, False, False, False, False, False, True, False, False, False, False, False, False, False, False, False, False, False, False, False, False, False, True, False, False, False, True, False, False, False, False, False, False, False, False] (100, -6)\n"
     ]
    }
   ],
   "source": [
    "def fitness1(state,x):\n",
    "    cost = sum(state)\n",
    "    valid = np.all(\n",
    "        reduce(\n",
    "            np.logical_or,\n",
    "            [x.getrow(i).toarray() for i, t in enumerate(state) if t],\n",
    "            np.array([False for _ in range(PROBLEM_SIZE)]),\n",
    "        )\n",
    "    )\n",
    "    return valid, -cost\n",
    "\n",
    "def fitness2(state,x):\n",
    "    cost = sum(state)\n",
    "    valid = np.sum(\n",
    "        reduce(\n",
    "            np.logical_or,\n",
    "            [x.getrow(i).toarray() for i, t in enumerate(state) if t],\n",
    "            np.array([False for _ in range(PROBLEM_SIZE)]),\n",
    "        )\n",
    "    )\n",
    "    return valid, -cost\n",
    "\n",
    "fitness = fitness2\n",
    "\n",
    "def tweak(state):\n",
    "    new_state = copy(state)\n",
    "    index = randint(0, PROBLEM_SIZE - 1)\n",
    "    new_state[index] = not new_state[index]\n",
    "    return new_state\n",
    "\n",
    "current_state = [choice([False, False, False, False, False, False]) for _ in range(NUM_SETS)]\n",
    "\n",
    "#Tabu search\n",
    "DIM_TABU_LIST=100\n",
    "neighbours=[]\n",
    "tabu_list=[DIM_TABU_LIST]\n",
    "step_done=0\n",
    "iter_for_best=0\n",
    "best_state_value=fitness2(current_state,x)\n",
    "best_state = current_state\n",
    "for iterations in range(200):\n",
    "    neighbours = [tweak(current_state) for _ in range(100)]\n",
    "    max_neig = neighbours[0]\n",
    "    for neig in neighbours:\n",
    "        if neig not in tabu_list and fitness2(neig,x) >= fitness2(max_neig,x):\n",
    "            max_neig=neig\n",
    "    current_state=max_neig\n",
    "    step_done +=1\n",
    "    tabu_list.append(current_state)\n",
    "    if fitness2(current_state,x) > best_state_value:\n",
    "        best_state = current_state\n",
    "        iter_for_best=step_done\n",
    "        best_state_value = fitness2(current_state,x)\n",
    "    if len(tabu_list) == DIM_TABU_LIST:\n",
    "        tabu_list.pop()\n",
    "print(step_done)\n",
    "print(iter_for_best)\n",
    "print(best_state,fitness2(best_state,x))  #final state\n",
    "\n"
   ]
  },
  {
   "cell_type": "code",
   "execution_count": 165,
   "id": "33a3def1",
   "metadata": {},
   "outputs": [
    {
     "name": "stdout",
     "output_type": "stream",
     "text": [
      "200\n",
      "191\n",
      "[False, True, False, True, False, False, False, False, False, False, False, False, False, False, False, False, False, False, False, False, False, False, False, False, False, False, False, False, False, False, False, False, False, False, False, False, False, False, False, False, False, False, False, False, False, False, False, False, False, False, False, False, False, False, False, True, False, False, False, False, False, False, False, False, False, False, False, False, True, True, True, False, True, False, False, False, False, False, False, False, False, False, False, False, False, False, False, False, False, False, False, False, False, False, True, False, False, False, False, False] (100, -8)\n"
     ]
    }
   ],
   "source": [
    "#iterated local search\n",
    "current_state = [choice([False, False, False, False, False, False]) for _ in range(NUM_SETS)]\n",
    "steady_state_cont = 0\n",
    "steady_state_limit = 10\n",
    "step_done=0\n",
    "iter_for_best=0\n",
    "for iterations in range(200):\n",
    "    step_done+=1\n",
    "    new_state = tweak(current_state)\n",
    "    if fitness2(new_state,x) >= fitness2(current_state,x):\n",
    "        steady_state_cont = 0\n",
    "        current_state = new_state\n",
    "        #print(current_state, fitness2(current_state,x))\n",
    "    else:\n",
    "        steady_state_cont+=1\n",
    "        if steady_state_cont == steady_state_limit :\n",
    "            iter_for_best=step_done\n",
    "            temp_state = [choice([True, False]) for _ in range(PROBLEM_SIZE)]\n",
    "            if fitness2(temp_state,x) > fitness2(current_state,x):\n",
    "                current_state=temp_state\n",
    "            steady_state_cont=0\n",
    "print(step_done)\n",
    "print(iter_for_best)\n",
    "print(current_state,fitness2(current_state,x))"
   ]
  },
  {
   "cell_type": "code",
   "execution_count": 166,
   "id": "1c0698e8",
   "metadata": {},
   "outputs": [
    {
     "name": "stdout",
     "output_type": "stream",
     "text": [
      "151\n",
      "38\n",
      "(100, -12)\n",
      "(100, -12)\n",
      "[False, False, False, False, False, False, False, False, False, False, False, False, False, False, False, False, False, False, False, False, False, True, False, False, False, False, False, False, False, False, False, False, True, False, True, False, False, False, False, False, False, False, False, False, False, False, False, False, True, False, False, False, True, False, False, False, False, False, False, False, False, False, True, False, True, False, False, False, False, False, False, True, False, False, False, True, False, False, False, False, False, True, False, False, False, False, False, False, False, False, False, False, False, False, False, False, True, True, False, False]\n"
     ]
    }
   ],
   "source": [
    "#simulated annealing\n",
    "current_state = [choice([False, False, False, False, False, False]) for _ in range(NUM_SETS)]\n",
    "cooling_rate=0.97\n",
    "cost=fitness2(current_state,x)\n",
    "best_solution=current_state\n",
    "best_cost=cost\n",
    "temperature=cooling_rate\n",
    "last_valid_solution=None\n",
    "step_done=0\n",
    "iter_for_best=0\n",
    "while temperature > 0.01:\n",
    "    new_state = tweak(current_state)\n",
    "    step_done+=1\n",
    "    if  fitness2(new_state,x) >= fitness2(current_state,x) or random() < math.exp( -(fitness2(current_state,x)[1]-fitness2(new_state,x)[1])/ temperature):\n",
    "        current_state = new_state\n",
    "        if fitness2(new_state,x)>fitness2(best_solution,x):\n",
    "            best_solution = current_state\n",
    "            best_cost = fitness2(new_state,x)\n",
    "            iter_for_best=step_done\n",
    "        if fitness2(current_state,x)[0] == PROBLEM_SIZE: #verifico se la soluzione è valida\n",
    "            last_valid_solution = current_state\n",
    "    temperature *= cooling_rate\n",
    "if fitness2(best_solution,x) != PROBLEM_SIZE : \n",
    "    best_solution=last_valid_solution\n",
    "print(step_done)\n",
    "print(iter_for_best)\n",
    "print(fitness2(best_solution,x))\n",
    "print(fitness2(last_valid_solution,x))\n",
    "print(best_solution)"
   ]
  }
 ],
 "metadata": {
  "kernelspec": {
   "display_name": "Python 3 (ipykernel)",
   "language": "python",
   "name": "python3"
  },
  "language_info": {
   "codemirror_mode": {
    "name": "ipython",
    "version": 3
   },
   "file_extension": ".py",
   "mimetype": "text/x-python",
   "name": "python",
   "nbconvert_exporter": "python",
   "pygments_lexer": "ipython3",
   "version": "3.11.3"
  }
 },
 "nbformat": 4,
 "nbformat_minor": 5
}
