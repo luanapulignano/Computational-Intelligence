{
 "cells": [
  {
   "cell_type": "markdown",
   "metadata": {},
   "source": [
    "Copyright **`(c)`** 2023 Giovanni Squillero `<giovanni.squillero@polito.it>`  \n",
    "[`https://github.com/squillero/computational-intelligence`](https://github.com/squillero/computational-intelligence)  \n",
    "Free for personal or classroom use; see [`LICENSE.md`](https://github.com/squillero/computational-intelligence/blob/master/LICENSE.md) for details.  "
   ]
  },
  {
   "cell_type": "code",
   "execution_count": 52,
   "metadata": {},
   "outputs": [],
   "source": [
    "from random import random\n",
    "from functools import reduce\n",
    "from collections import namedtuple\n",
    "from queue import PriorityQueue, SimpleQueue, LifoQueue\n",
    "from math import ceil\n",
    "\n",
    "import numpy as np"
   ]
  },
  {
   "cell_type": "code",
   "execution_count": 53,
   "metadata": {},
   "outputs": [],
   "source": [
    "PROBLEM_SIZE = 5\n",
    "NUM_SETS = 10\n",
    "SETS = tuple(\n",
    "    np.array([random() < 0.3 for _ in range(PROBLEM_SIZE)])\n",
    "    for _ in range(NUM_SETS)\n",
    ")\n",
    "State = namedtuple('State', ['taken', 'not_taken'])"
   ]
  },
  {
   "cell_type": "code",
   "execution_count": 54,
   "metadata": {},
   "outputs": [],
   "source": [
    "def goal_check(state):\n",
    "    return np.all(reduce(\n",
    "        np.logical_or,\n",
    "        [SETS[i] for i in state.taken],\n",
    "        np.array([False for _ in range(PROBLEM_SIZE)]),\n",
    "    ))\n",
    "\n",
    "def h(state):\n",
    "    already_covered = reduce(np.logical_or,[SETS[i] for i in state.taken],np.array([False for _ in range(PROBLEM_SIZE)]),)\n",
    "    if np.all(already_covered):\n",
    "        return 0\n",
    "    largest_set_size = max(sum(np.logical_and(s, np.logical_not(already_covered))) for s in SETS)\n",
    "    missing_size = PROBLEM_SIZE - sum(already_covered)\n",
    "    optimistic_estimate = ceil(missing_size / largest_set_size)\n",
    "    return optimistic_estimate\n",
    "\n",
    "def distance(state):\n",
    "    return h(state)+ len(state.taken)\n"
   ]
  },
  {
   "cell_type": "code",
   "execution_count": 55,
   "metadata": {},
   "outputs": [],
   "source": [
    "assert goal_check(\n",
    "    State(set(range(NUM_SETS)), set())\n",
    "), \"Probelm not solvable\""
   ]
  },
  {
   "cell_type": "code",
   "execution_count": 56,
   "metadata": {},
   "outputs": [
    {
     "ename": "TypeError",
     "evalue": "only length-1 arrays can be converted to Python scalars",
     "output_type": "error",
     "traceback": [
      "\u001b[1;31m---------------------------------------------------------------------------\u001b[0m",
      "\u001b[1;31mTypeError\u001b[0m                                 Traceback (most recent call last)",
      "\u001b[1;32mc:\\Users\\Luana Pulignano\\Visual Studio Code\\Computational Intelligence\\esercizi\\Computational-Intelligence\\set-covering.ipynb Cell 6\u001b[0m line \u001b[0;36m4\n\u001b[0;32m      <a href='vscode-notebook-cell:/c%3A/Users/Luana%20Pulignano/Visual%20Studio%20Code/Computational%20Intelligence/esercizi/Computational-Intelligence/set-covering.ipynb#W5sZmlsZQ%3D%3D?line=1'>2</a>\u001b[0m \u001b[39m#frontier = SimpleQueue()\u001b[39;00m\n\u001b[0;32m      <a href='vscode-notebook-cell:/c%3A/Users/Luana%20Pulignano/Visual%20Studio%20Code/Computational%20Intelligence/esercizi/Computational-Intelligence/set-covering.ipynb#W5sZmlsZQ%3D%3D?line=2'>3</a>\u001b[0m state \u001b[39m=\u001b[39m State(\u001b[39mset\u001b[39m(), \u001b[39mset\u001b[39m(\u001b[39mrange\u001b[39m(NUM_SETS)))\n\u001b[1;32m----> <a href='vscode-notebook-cell:/c%3A/Users/Luana%20Pulignano/Visual%20Studio%20Code/Computational%20Intelligence/esercizi/Computational-Intelligence/set-covering.ipynb#W5sZmlsZQ%3D%3D?line=3'>4</a>\u001b[0m frontier\u001b[39m.\u001b[39mput((distance(state), state))\n\u001b[0;32m      <a href='vscode-notebook-cell:/c%3A/Users/Luana%20Pulignano/Visual%20Studio%20Code/Computational%20Intelligence/esercizi/Computational-Intelligence/set-covering.ipynb#W5sZmlsZQ%3D%3D?line=5'>6</a>\u001b[0m counter \u001b[39m=\u001b[39m \u001b[39m0\u001b[39m\n\u001b[0;32m      <a href='vscode-notebook-cell:/c%3A/Users/Luana%20Pulignano/Visual%20Studio%20Code/Computational%20Intelligence/esercizi/Computational-Intelligence/set-covering.ipynb#W5sZmlsZQ%3D%3D?line=6'>7</a>\u001b[0m _, current_state \u001b[39m=\u001b[39m frontier\u001b[39m.\u001b[39mget()\n",
      "\u001b[1;32mc:\\Users\\Luana Pulignano\\Visual Studio Code\\Computational Intelligence\\esercizi\\Computational-Intelligence\\set-covering.ipynb Cell 6\u001b[0m line \u001b[0;36m2\n\u001b[0;32m     <a href='vscode-notebook-cell:/c%3A/Users/Luana%20Pulignano/Visual%20Studio%20Code/Computational%20Intelligence/esercizi/Computational-Intelligence/set-covering.ipynb#W5sZmlsZQ%3D%3D?line=24'>25</a>\u001b[0m \u001b[39mdef\u001b[39;00m \u001b[39mdistance\u001b[39m(state):\n\u001b[1;32m---> <a href='vscode-notebook-cell:/c%3A/Users/Luana%20Pulignano/Visual%20Studio%20Code/Computational%20Intelligence/esercizi/Computational-Intelligence/set-covering.ipynb#W5sZmlsZQ%3D%3D?line=25'>26</a>\u001b[0m     \u001b[39mreturn\u001b[39;00m h(state)\u001b[39m+\u001b[39m \u001b[39mlen\u001b[39m(state\u001b[39m.\u001b[39mtaken)\n",
      "\u001b[1;32mc:\\Users\\Luana Pulignano\\Visual Studio Code\\Computational Intelligence\\esercizi\\Computational-Intelligence\\set-covering.ipynb Cell 6\u001b[0m line \u001b[0;36m1\n\u001b[0;32m     <a href='vscode-notebook-cell:/c%3A/Users/Luana%20Pulignano/Visual%20Studio%20Code/Computational%20Intelligence/esercizi/Computational-Intelligence/set-covering.ipynb#W5sZmlsZQ%3D%3D?line=11'>12</a>\u001b[0m largest_set_size \u001b[39m=\u001b[39m \u001b[39mmax\u001b[39m(\u001b[39msum\u001b[39m(np\u001b[39m.\u001b[39mlogical_and(s, np\u001b[39m.\u001b[39mlogical_not(already_covered))) \u001b[39mfor\u001b[39;00m s \u001b[39min\u001b[39;00m SETS)\n\u001b[0;32m     <a href='vscode-notebook-cell:/c%3A/Users/Luana%20Pulignano/Visual%20Studio%20Code/Computational%20Intelligence/esercizi/Computational-Intelligence/set-covering.ipynb#W5sZmlsZQ%3D%3D?line=12'>13</a>\u001b[0m missing_size \u001b[39m=\u001b[39m np\u001b[39m.\u001b[39mwhere(already_covered\u001b[39m==\u001b[39m\u001b[39m0\u001b[39m)\n\u001b[1;32m---> <a href='vscode-notebook-cell:/c%3A/Users/Luana%20Pulignano/Visual%20Studio%20Code/Computational%20Intelligence/esercizi/Computational-Intelligence/set-covering.ipynb#W5sZmlsZQ%3D%3D?line=13'>14</a>\u001b[0m optimistic_estimate \u001b[39m=\u001b[39m ceil(missing_size \u001b[39m/\u001b[39;49m largest_set_size)\n\u001b[0;32m     <a href='vscode-notebook-cell:/c%3A/Users/Luana%20Pulignano/Visual%20Studio%20Code/Computational%20Intelligence/esercizi/Computational-Intelligence/set-covering.ipynb#W5sZmlsZQ%3D%3D?line=14'>15</a>\u001b[0m \u001b[39mreturn\u001b[39;00m optimistic_estimate\n",
      "\u001b[1;31mTypeError\u001b[0m: only length-1 arrays can be converted to Python scalars"
     ]
    }
   ],
   "source": [
    "frontier = PriorityQueue()\n",
    "#frontier = SimpleQueue()\n",
    "state = State(set(), set(range(NUM_SETS)))\n",
    "frontier.put((distance(state), state))\n",
    "\n",
    "counter = 0\n",
    "_, current_state = frontier.get()\n",
    "while not goal_check(current_state):\n",
    "    counter += 1\n",
    "    for action in current_state[1]:\n",
    "        new_state = State(\n",
    "            current_state.taken ^ {action},\n",
    "            current_state.not_taken ^ {action},\n",
    "        )\n",
    "        frontier.put((distance(new_state), new_state))\n",
    "    _, current_state = frontier.get()\n",
    "\n",
    "print(\n",
    "    f\"Solved in {counter:,} steps ({len(current_state.taken)} tiles)\"\n",
    ")"
   ]
  },
  {
   "cell_type": "code",
   "execution_count": null,
   "metadata": {},
   "outputs": [
    {
     "data": {
      "text/plain": [
       "State(taken={0, 5, 6}, not_taken={1, 2, 3, 4, 7, 8, 9})"
      ]
     },
     "execution_count": 50,
     "metadata": {},
     "output_type": "execute_result"
    }
   ],
   "source": [
    "current_state"
   ]
  },
  {
   "cell_type": "code",
   "execution_count": null,
   "metadata": {},
   "outputs": [
    {
     "data": {
      "text/plain": [
       "array([False,  True, False, False, False])"
      ]
     },
     "execution_count": 51,
     "metadata": {},
     "output_type": "execute_result"
    }
   ],
   "source": [
    "SETS[0]"
   ]
  },
  {
   "cell_type": "code",
   "execution_count": null,
   "metadata": {},
   "outputs": [],
   "source": []
  }
 ],
 "metadata": {
  "kernelspec": {
   "display_name": "ci-P-7LqQ3C-py3.11",
   "language": "python",
   "name": "python3"
  },
  "language_info": {
   "codemirror_mode": {
    "name": "ipython",
    "version": 3
   },
   "file_extension": ".py",
   "mimetype": "text/x-python",
   "name": "python",
   "nbconvert_exporter": "python",
   "pygments_lexer": "ipython3",
   "version": "3.12.0"
  }
 },
 "nbformat": 4,
 "nbformat_minor": 2
}
